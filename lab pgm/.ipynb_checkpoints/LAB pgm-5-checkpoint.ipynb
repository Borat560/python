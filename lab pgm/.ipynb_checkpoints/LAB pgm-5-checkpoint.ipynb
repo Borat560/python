{
 "cells": [
  {
   "cell_type": "code",
   "execution_count": 2,
   "id": "c154c10d",
   "metadata": {},
   "outputs": [
    {
     "name": "stdout",
     "output_type": "stream",
     "text": [
      "the slice of first 10 items of the sorted dictionary are:\n",
      "[(1, 'hi')]\n",
      "the slice of first 10 items of the sorted dictionary are:\n",
      "[(1, 'i'), (1, 'hi')]\n",
      "the slice of first 10 items of the sorted dictionary are:\n",
      "[(1, 'i'), (1, 'hi'), (1, 'am')]\n",
      "the slice of first 10 items of the sorted dictionary are:\n",
      "[(1, 'i'), (1, 'hi'), (1, 'atul'), (1, 'am')]\n",
      "the slice of first 10 items of the sorted dictionary are:\n",
      "[(1, 'smvitm'), (1, 'i'), (1, 'hi'), (1, 'atul'), (1, 'am')]\n"
     ]
    }
   ],
   "source": [
    "ifile=open(\"a.txt\")\n",
    "dict_words={}\n",
    "for line in ifile:\n",
    "    words=line.split()\n",
    "    for word in words:\n",
    "        dict_words[word]=dict_words.get(word,0)+1\n",
    "list_words=[]\n",
    "for key,val in dict_words.items():\n",
    "    list_words.append((val,key))\n",
    "    list_words.sort(reverse=True)\n",
    "    print(\"the slice of first 10 items of the sorted dictionary are:\")\n",
    "    print(list_words[:10])"
   ]
  },
  {
   "cell_type": "code",
   "execution_count": 3,
   "id": "a28546d6",
   "metadata": {},
   "outputs": [
    {
     "name": "stdout",
     "output_type": "stream",
     "text": [
      "{'hi': 1, 'i': 1, 'am': 1, 'atul': 1, 'smvitm': 1}\n"
     ]
    }
   ],
   "source": [
    "ifile=open(\"a.txt\")\n",
    "dict_words={}\n",
    "for line in ifile:\n",
    "    words=line.split()\n",
    "    for word in words:\n",
    "        dict_words[word]=dict_words.get(word,0)+1\n",
    "print(dict_words)"
   ]
  },
  {
   "cell_type": "code",
   "execution_count": null,
   "id": "7fa362f5",
   "metadata": {},
   "outputs": [],
   "source": []
  }
 ],
 "metadata": {
  "kernelspec": {
   "display_name": "Python 3 (ipykernel)",
   "language": "python",
   "name": "python3"
  },
  "language_info": {
   "codemirror_mode": {
    "name": "ipython",
    "version": 3
   },
   "file_extension": ".py",
   "mimetype": "text/x-python",
   "name": "python",
   "nbconvert_exporter": "python",
   "pygments_lexer": "ipython3",
   "version": "3.10.6"
  }
 },
 "nbformat": 4,
 "nbformat_minor": 5
}
