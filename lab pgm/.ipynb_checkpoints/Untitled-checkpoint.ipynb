{
 "cells": [
  {
   "cell_type": "code",
   "execution_count": 2,
   "id": "ff845f9f",
   "metadata": {},
   "outputs": [
    {
     "name": "stdout",
     "output_type": "stream",
     "text": [
      "['bye', 'goodbye', 'hello', 'hi']\n"
     ]
    }
   ],
   "source": [
    "ifile=open(\"file1.txt\")\n",
    "ofile=open(\"file2.txt\",mode='w')\n",
    "word_list=[]\n",
    "for line in ifile:\n",
    "    words=line.split()\n",
    "    for word in words:\n",
    "        word_list.append(word)\n",
    "word_list.sort()\n",
    "print(word_list)\n",
    "for word in word_list:\n",
    "    ofile.write(word+\" \")\n",
    "ofile.close()\n"
   ]
  },
  {
   "cell_type": "code",
   "execution_count": null,
   "id": "ca662f98",
   "metadata": {},
   "outputs": [],
   "source": []
  }
 ],
 "metadata": {
  "kernelspec": {
   "display_name": "Python 3 (ipykernel)",
   "language": "python",
   "name": "python3"
  },
  "language_info": {
   "codemirror_mode": {
    "name": "ipython",
    "version": 3
   },
   "file_extension": ".py",
   "mimetype": "text/x-python",
   "name": "python",
   "nbconvert_exporter": "python",
   "pygments_lexer": "ipython3",
   "version": "3.10.6"
  }
 },
 "nbformat": 4,
 "nbformat_minor": 5
}
