{
 "cells": [
  {
   "cell_type": "code",
   "execution_count": 1,
   "metadata": {},
   "outputs": [
    {
     "name": "stdout",
     "output_type": "stream",
     "text": [
      "name:  Atul Kamath\n",
      "usn:  4MW22CS034\n",
      "marks:  [90, 40, 60]\n",
      "Total Marks:  190 \tPercentage:  63.333333333333336 %\n"
     ]
    }
   ],
   "source": [
    "class Student:\n",
    "    def __init__(self, name=\" \", usn=\" \", marks=[]):\n",
    "        self.name=name\n",
    "        self.usn=usn\n",
    "        self.marks=list()\n",
    "    \n",
    "    def getMarks(self):\n",
    "        x=map(int, input(\"enter marks scored in 3 Subjects with each other separated by space: \").split())\n",
    "        self.marks+=x\n",
    "\n",
    "    def getDetails(self):\n",
    "        self.name=input(\"enter name:\")\n",
    "        self.usn=input(\"enter usn:\")\n",
    "\n",
    "    def display(self):\n",
    "        print(\"name: \", self.name)\n",
    "        print(\"usn: \", self.usn)\n",
    "        print(\"marks: \", self.marks)\n",
    "        total=0\n",
    "        for x in self.marks:\n",
    "            total+=x\n",
    "        print(\"Total Marks: \", total, \"\\tPercentage: \", total/3, \"%\")\n",
    "x=Student()\n",
    "x.getDetails()\n",
    "x.getMarks()\n",
    "x.display()\n"
   ]
  }
 ],
 "metadata": {
  "kernelspec": {
   "display_name": "Python 3",
   "language": "python",
   "name": "python3"
  },
  "language_info": {
   "codemirror_mode": {
    "name": "ipython",
    "version": 3
   },
   "file_extension": ".py",
   "mimetype": "text/x-python",
   "name": "python",
   "nbconvert_exporter": "python",
   "pygments_lexer": "ipython3",
   "version": "3.10.12"
  },
  "orig_nbformat": 4
 },
 "nbformat": 4,
 "nbformat_minor": 2
}
