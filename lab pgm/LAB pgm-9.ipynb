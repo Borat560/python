{
 "cells": [
  {
   "cell_type": "code",
   "execution_count": 1,
   "metadata": {},
   "outputs": [
    {
     "name": "stdout",
     "output_type": "stream",
     "text": [
      "-2+i(-5) + 12+i(8) = 10+i(3)\n",
      "<class '__main__.Complex'> 140550131357616\n",
      "The sum of given complex numbers is 4.0+i(6.0)\n"
     ]
    }
   ],
   "source": [
    "class Complex:\n",
    "    def __init__(self, real=0, img=0):\n",
    "        self.real=real\n",
    "        self.img=img\n",
    "    def __add__(c1, c2):\n",
    "        return Complex(c1.real+c2.real, c1.img+c2.img)\n",
    "    def __str__(self):\n",
    "        return (\"{}+i({})\".format(self.real, self.img))\n",
    "ca=Complex(-2, -5)\n",
    "cb=Complex(12, 8)\n",
    "print(ca, \"+\", cb, \"=\",(ca+cb))\n",
    "print(type(ca), id(ca))\n",
    "complex_list=[]\n",
    "n=int(input(\"how many complex numbers do you want to add?\"))\n",
    "for i in range(n):\n",
    "    m=float(input(\"enter the real part\"))\n",
    "    n=float(input(\"enter the img part\"))\n",
    "    \n",
    "    complex_list.append(Complex(m,n))\n",
    "sum_series=Complex()\n",
    "for x in complex_list:\n",
    "    sum_series+=x\n",
    "print(\"The sum of given complex numbers is\", sum_series)\t\n"
   ]
  }
 ],
 "metadata": {
  "kernelspec": {
   "display_name": "Python 3",
   "language": "python",
   "name": "python3"
  },
  "language_info": {
   "codemirror_mode": {
    "name": "ipython",
    "version": 3
   },
   "file_extension": ".py",
   "mimetype": "text/x-python",
   "name": "python",
   "nbconvert_exporter": "python",
   "pygments_lexer": "ipython3",
   "version": "3.10.12"
  },
  "orig_nbformat": 4
 },
 "nbformat": 4,
 "nbformat_minor": 2
}
