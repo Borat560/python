{
 "cells": [
  {
   "cell_type": "code",
   "execution_count": 9,
   "id": "0aa3132a",
   "metadata": {},
   "outputs": [
    {
     "name": "stdout",
     "output_type": "stream",
     "text": [
      "enter length of fibonacci sq 5\n",
      "first term is second term and then the sequence is 0\t 1\t\t1\t2\t3\t"
     ]
    }
   ],
   "source": [
    "#fibonnaci sequence\n",
    "n=int(input(\"enter length of fibonacci sq \"))\n",
    "a=0\n",
    "b=1\n",
    "count=2\n",
    "print(\"first term is second term and then the sequence is %d\\t %d\\t\"%(a,b),end=\"\\t\")\n",
    "while(count<n):\n",
    "    c=a+b\n",
    "    a=b\n",
    "    b=c\n",
    "    print(c,end=\"\\t\")\n",
    "    count+=1\n",
    "    "
   ]
  },
  {
   "cell_type": "code",
   "execution_count": 13,
   "id": "8ec5a207",
   "metadata": {},
   "outputs": [
    {
     "name": "stdout",
     "output_type": "stream",
     "text": [
      "enter the number of find factorial:5\n",
      "factorial of number is  120\n"
     ]
    }
   ],
   "source": [
    "#factorial\n",
    "#method 1\n",
    "def factorial(n):\n",
    "    return 1 if(n==1 or n==0) else n*factorial(n-1)\n",
    "n=int(input(\"enter the number of find factorial:\"))\n",
    "print(\"factorial of number is \",factorial(n))"
   ]
  },
  {
   "cell_type": "code",
   "execution_count": 15,
   "id": "75fae47e",
   "metadata": {},
   "outputs": [
    {
     "name": "stdout",
     "output_type": "stream",
     "text": [
      "factorial of num: 120\n"
     ]
    }
   ],
   "source": [
    "#method-2 factorial \n",
    "import math\n",
    "def factorial(n):\n",
    "    return(math.factorial(n))\n",
    "num=5\n",
    "print(\"factorial of num:\",factorial(num))\n"
   ]
  },
  {
   "cell_type": "code",
   "execution_count": 17,
   "id": "bcbe4215",
   "metadata": {},
   "outputs": [
    {
     "name": "stdout",
     "output_type": "stream",
     "text": [
      "5\n"
     ]
    }
   ],
   "source": [
    "#method-3 factorial\n",
    "def factroial(n):\n",
    "    if(n<0):\n",
    "        return 0\n",
    "    elif(n==0 or n==1):\n",
    "        return 1 \n",
    "    else:\n",
    "        fact=1\n",
    "        while(n>1):\n",
    "            fact*=n\n",
    "            n-=1\n",
    "            return fact \n",
    "num=5\n",
    "print(factroial(num))\n"
   ]
  },
  {
   "cell_type": "code",
   "execution_count": null,
   "id": "3069304c",
   "metadata": {},
   "outputs": [],
   "source": []
  }
 ],
 "metadata": {
  "kernelspec": {
   "display_name": "Python 3 (ipykernel)",
   "language": "python",
   "name": "python3"
  },
  "language_info": {
   "codemirror_mode": {
    "name": "ipython",
    "version": 3
   },
   "file_extension": ".py",
   "mimetype": "text/x-python",
   "name": "python",
   "nbconvert_exporter": "python",
   "pygments_lexer": "ipython3",
   "version": "3.10.6"
  }
 },
 "nbformat": 4,
 "nbformat_minor": 5
}
