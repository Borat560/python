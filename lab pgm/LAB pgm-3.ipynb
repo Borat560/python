{
 "cells": [
  {
   "cell_type": "code",
   "execution_count": 8,
   "id": "9ded794b",
   "metadata": {},
   "outputs": [
    {
     "name": "stdout",
     "output_type": "stream",
     "text": [
      "enter number of elements in series:5\n",
      "enter the  5 elements of list\n",
      "1:1\n",
      "2:2\n",
      "3:3\n",
      "4:4\n",
      "5:5\n",
      "[1, 2, 3, 4, 5]\n",
      "sum_square= 10.0\n",
      "Mean= 3.0  varience= 2.0  std_dev= 1.4142135623730951\n",
      "Mean=3.00,varience=2.00 and standard deviation=1.41\n"
     ]
    }
   ],
   "source": [
    "#mean,varience,std_dev\n",
    "import math \n",
    "n=int(input(\"enter number of elements in series:\"))\n",
    "num_list=[]\n",
    "print(\"enter the \",n,\"elements of list\")\n",
    "for i in range(n):\n",
    "    num_list.append(int(input(str(i+1)+\":\")))\n",
    "print(num_list)\n",
    "sum_series=0\n",
    "sum_sq=0\n",
    "for x in num_list:\n",
    "    sum_series+=x\n",
    "mean=sum_series/n\n",
    "for x in num_list:\n",
    "    sum_sq+=(x-mean)**2\n",
    "print(\"sum_square=\",sum_sq)\n",
    "varience=sum_sq/n\n",
    "std_dev=math.sqrt(varience)\n",
    "print(\"Mean=\",mean,\" varience=\",varience,\" std_dev=\",std_dev)\n",
    "print(\"Mean={:.2f},varience={:.2f} and standard deviation={:.2f}\".format(mean,varience,std_dev))"
   ]
  },
  {
   "cell_type": "code",
   "execution_count": null,
   "id": "be625e4e",
   "metadata": {},
   "outputs": [],
   "source": []
  }
 ],
 "metadata": {
  "kernelspec": {
   "display_name": "Python 3 (ipykernel)",
   "language": "python",
   "name": "python3"
  },
  "language_info": {
   "codemirror_mode": {
    "name": "ipython",
    "version": 3
   },
   "file_extension": ".py",
   "mimetype": "text/x-python",
   "name": "python",
   "nbconvert_exporter": "python",
   "pygments_lexer": "ipython3",
   "version": "3.10.6"
  }
 },
 "nbformat": 4,
 "nbformat_minor": 5
}
