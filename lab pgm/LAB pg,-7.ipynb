{
 "cells": [
  {
   "cell_type": "code",
   "execution_count": 14,
   "metadata": {},
   "outputs": [
    {
     "name": "stdout",
     "output_type": "stream",
     "text": [
      "archive created succesfully\n"
     ]
    }
   ],
   "source": [
    "import os \n",
    "import sys\n",
    "import pathlib\n",
    "import zipfile\n",
    "dirname=input(\"enter the folder name that you want to backup\")\n",
    "if not os.path.isdir(dirname):\n",
    "    print(\"directory \",dirname,\" dosent exist\")\n",
    "    sys.exit(0)\n",
    "curdirectory=pathlib.Path(dirname)\n",
    "with zipfile.ZipFile(\"myzip.zip\",mode=\"w\")as archive:\n",
    "    for file_path in curdirectory.rglob('*'):\n",
    "        archive.write(file_path,arcname=file_path.relative_to(curdirectory))\n",
    "if os.path.isfile(\"myzip.zip\"):\n",
    "    print(\"archive created succesfully\")\n",
    "else:\n",
    "    print(\"error creating zipfile\")\n",
    "\n",
    "\n",
    "    \n"
   ]
  },
  {
   "cell_type": "code",
   "execution_count": 1,
   "metadata": {},
   "outputs": [
    {
     "data": {
      "text/plain": [
       "'/home/pc480/vscd/python/lab pgm'"
      ]
     },
     "execution_count": 1,
     "metadata": {},
     "output_type": "execute_result"
    }
   ],
   "source": [
    "import os\n",
    "os.getcwd()\n",
    "import zipfile\n",
    "zipfile.ZipFile"
   ]
  }
 ],
 "metadata": {
  "kernelspec": {
   "display_name": "Python 3",
   "language": "python",
   "name": "python3"
  },
  "language_info": {
   "codemirror_mode": {
    "name": "ipython",
    "version": 3
   },
   "file_extension": ".py",
   "mimetype": "text/x-python",
   "name": "python",
   "nbconvert_exporter": "python",
   "pygments_lexer": "ipython3",
   "version": "3.10.12"
  },
  "orig_nbformat": 4
 },
 "nbformat": 4,
 "nbformat_minor": 2
}
