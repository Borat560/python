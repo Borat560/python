{
 "cells": [
  {
   "cell_type": "code",
   "execution_count": 6,
   "id": "3903e1e9",
   "metadata": {},
   "outputs": [
    {
     "name": "stdout",
     "output_type": "stream",
     "text": [
      "enter the multi digit number50765885336\n",
      "The number  50765885336  has\n",
      "0  digit  1  times\n",
      "3  digit  2  times\n",
      "5  digit  3  times\n",
      "6  digit  2  times\n",
      "7  digit  1  times\n",
      "8  digit  2  times\n"
     ]
    }
   ],
   "source": [
    "num=input(\"enter the multi digit number\")\n",
    "n=len(num)\n",
    "n0,n1,n2,n3,n4,n5,n6,n7,n8,n9=0,0,0,0,0,0,0,0,0,0\n",
    "for i in range(n):\n",
    "    if num[i]=='0':\n",
    "        n0+=1\n",
    "    elif num[i]=='1':\n",
    "        n1+=1\n",
    "    elif num[i]=='2':\n",
    "        n2+=1\n",
    "    elif num[i]=='3':\n",
    "        n3+=1\n",
    "    elif num[i]=='4':\n",
    "        n4+=1\n",
    "    elif num[i]=='5':\n",
    "        n5+=1\n",
    "    elif num[i]=='6':\n",
    "        n6+=1\n",
    "    elif num[i]=='7':\n",
    "        n7+=1\n",
    "    elif num[i]=='8':\n",
    "        n8+=1\n",
    "    elif num[i]=='9':\n",
    "        n9+=1\n",
    "dfreq=[n0,n1,n2,n3,n4,n5,n6,n7,n8,n9]\n",
    "print(\"The number \",num,\" has\")\n",
    "for i in range(10):\n",
    "    if dfreq[i]==0:\n",
    "        continue\n",
    "    print(i,\" digit \",dfreq[i],\" times\")"
   ]
  },
  {
   "cell_type": "code",
   "execution_count": null,
   "id": "e997683e",
   "metadata": {},
   "outputs": [],
   "source": []
  }
 ],
 "metadata": {
  "kernelspec": {
   "display_name": "Python 3 (ipykernel)",
   "language": "python",
   "name": "python3"
  },
  "language_info": {
   "codemirror_mode": {
    "name": "ipython",
    "version": 3
   },
   "file_extension": ".py",
   "mimetype": "text/x-python",
   "name": "python",
   "nbconvert_exporter": "python",
   "pygments_lexer": "ipython3",
   "version": "3.10.6"
  }
 },
 "nbformat": 4,
 "nbformat_minor": 5
}
