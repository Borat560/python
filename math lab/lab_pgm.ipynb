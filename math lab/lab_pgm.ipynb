{
 "cells": [
  {
   "cell_type": "code",
   "execution_count": 1,
   "metadata": {},
   "outputs": [
    {
     "name": "stdout",
     "output_type": "stream",
     "text": [
      "24.0*pi\n"
     ]
    }
   ],
   "source": [
    "from sympy import *\n",
    "x=Symbol('x')\n",
    "y=Symbol('y')\n",
    "a=4\n",
    "b=6\n",
    "w3=4*integrate(1,(y,0,(b/a)*sqrt(a**2-x**2)),(x,0,a))\n",
    "print(w3)"
   ]
  },
  {
   "cell_type": "code",
   "execution_count": 2,
   "metadata": {},
   "outputs": [
    {
     "name": "stdout",
     "output_type": "stream",
     "text": [
      "81/80\n"
     ]
    }
   ],
   "source": [
    "from sympy import *\n",
    "x=Symbol('x')\n",
    "y=Symbol('y')\n",
    "z=Symbol('z')\n",
    "w2=integrate((x*y*z),(z,0,3-x-y),(y,0,3-x),(x,0,3))\n",
    "print(w2)"
   ]
  },
  {
   "cell_type": "code",
   "execution_count": 4,
   "metadata": {},
   "outputs": [
    {
     "name": "stdout",
     "output_type": "stream",
     "text": [
      "a*b*c/6\n"
     ]
    }
   ],
   "source": [
    "from sympy import *\n",
    "x=Symbol('x')\n",
    "y=Symbol('y')\n",
    "z=Symbol('z')\n",
    "a=Symbol('a')\n",
    "b=Symbol('b')\n",
    "c=Symbol('c')\n",
    "w2=integrate(1,(z,0,c*(1-x/a-y/b)),(y,0,b*(1-x/a)),(x,0,a))\n",
    "print(w2)"
   ]
  },
  {
   "cell_type": "code",
   "execution_count": 5,
   "metadata": {},
   "outputs": [
    {
     "name": "stdout",
     "output_type": "stream",
     "text": [
      "gamma( 5.0 )is 24.000\n",
      "beta( 3.0 5.0 ) is 0.010\n"
     ]
    }
   ],
   "source": [
    "from sympy import *\n",
    "m=input('m:')\n",
    "n=input('n:')\n",
    "m=float(m)\n",
    "n=float(n)\n",
    "s=beta(m,n)\n",
    "t=gamma(n)\n",
    "print('gamma(',n,')is %3.3f'%t)\n",
    "print('beta(',m,n,') is %3.3f'%s)"
   ]
  },
  {
   "cell_type": "code",
   "execution_count": 6,
   "metadata": {},
   "outputs": [
    {
     "name": "stdout",
     "output_type": "stream",
     "text": [
      "Given scalar function F=\n"
     ]
    },
    {
     "data": {
      "text/latex": [
       "$\\displaystyle x^{2} y z$"
      ],
      "text/plain": [
       "x**2*y*z"
      ]
     },
     "metadata": {},
     "output_type": "display_data"
    },
    {
     "name": "stdout",
     "output_type": "stream",
     "text": [
      "Gradient of F=\n"
     ]
    },
    {
     "data": {
      "text/latex": [
       "$\\displaystyle 2 x y z\\mathbf{\\hat{v}_x} + x^{2} z\\mathbf{\\hat{v}_y} + x^{2} y\\mathbf{\\hat{v}_z}$"
      ],
      "text/plain": [
       "2*x*y*z*v.x + x**2*z*v.y + x**2*y*v.z"
      ]
     },
     "metadata": {},
     "output_type": "display_data"
    }
   ],
   "source": [
    "from sympy .physics .vector import *\n",
    "from sympy import var ,pprint\n",
    "var('x,y,z')\n",
    "v=ReferenceFrame('v')\n",
    "F=v[0]**2*v[1]*v[2]\n",
    "G=gradient(F,v)\n",
    "F=F.subs([(v[0],x),(v[1],y),(v[2],z)])\n",
    "print(\"Given scalar function F=\")\n",
    "display(F)\n",
    "G=G.subs([(v[0],x),(v[1],y),(v[2],z)])\n",
    "print(\"Gradient of F=\")\n",
    "display(G)"
   ]
  },
  {
   "cell_type": "code",
   "execution_count": 10,
   "metadata": {},
   "outputs": [
    {
     "data": {
      "text/latex": [
       "$\\displaystyle x y^{2}\\mathbf{\\hat{v}_x} + 2 x^{2} y z\\mathbf{\\hat{v}_y} -  3 y z^{2}\\mathbf{\\hat{v}_z}$"
      ],
      "text/plain": [
       "x*y**2*v.x + 2*x**2*y*z*v.y - 3*y*z**2*v.z"
      ]
     },
     "metadata": {},
     "output_type": "display_data"
    },
    {
     "data": {
      "text/latex": [
       "$\\displaystyle (- 2 x^{2} y - 3 z^{2})\\mathbf{\\hat{v}_x} + (4 x y z - 2 x y)\\mathbf{\\hat{v}_z}$"
      ],
      "text/plain": [
       "(-2*x**2*y - 3*z**2)*v.x + (4*x*y*z - 2*x*y)*v.z"
      ]
     },
     "metadata": {},
     "output_type": "display_data"
    }
   ],
   "source": [
    "from sympy .physics .vector import *\n",
    "from sympy import var \n",
    "var('x,y,z')\n",
    "v=ReferenceFrame('v')\n",
    "F=v[0]*v[1]**2*v .x+2*v[0]**2*v[1]*v[2]*v .y-3*v[1]*v[2]**2*v .z\n",
    "G=curl(F,v)\n",
    "F=F.subs([(v[0],x),(v[1],y),(v[2],z)])\n",
    "display(F)\n",
    "G=G.subs([(v[0],x),(v[1],y),(v[2],z)])\n",
    "display(G)"
   ]
  },
  {
   "cell_type": "code",
   "execution_count": 12,
   "metadata": {},
   "outputs": [
    {
     "name": "stdout",
     "output_type": "stream",
     "text": [
      "the required values at x=0.00,y=0.00000,x=0.00,y=0.34850,x=0.00,y=0.77419,x=0.00,y=1.29416\n"
     ]
    }
   ],
   "source": [
    "from numpy import array\n",
    "from sympy import *\n",
    "import numpy as np\n",
    "def taylor(deriv,x,y,xstop,h):\n",
    "    X=[]\n",
    "    Y=[]\n",
    "    X.append(x)\n",
    "    Y.append(y)\n",
    "    while x<xstop:\n",
    "        D=deriv(x,y)\n",
    "        H=1.0\n",
    "        for j in range(3):\n",
    "            H=H*h/(j+1)\n",
    "            y=y+D[j]*H\n",
    "        x=x+H\n",
    "        X.append(x)\n",
    "        Y.append(y)\n",
    "    return array(X),array(Y)\n",
    "def deriv(x,y):\n",
    "    D=np.zeros((4,1))\n",
    "    D[0]=[2*y[0]+3*exp(x)]\n",
    "    D[1]=[4*y[0]+9*exp(x)]\n",
    "    D[2]=[8*y[0]+21*exp(x)]\n",
    "    D[3]=[16*y[0]+45*exp(x)]\n",
    "    return D\n",
    "x=0.0\n",
    "xstop=0.3\n",
    "y=array([0.0])\n",
    "h=0.1\n",
    "X,Y=taylor(deriv,x,y,xstop,h)\n",
    "print(\"the required values at x=%0.2f,y=%0.5f,x=%0.2f,y=%0.5f,x=%0.2f,y=%0.5f,x=%0.2f,y=%0.5f\"%(X[0],Y[0],X[1],Y[1],X[2],Y[2],X[3],Y[3]))\n",
    "    "
   ]
  },
  {
   "cell_type": "code",
   "execution_count": 15,
   "metadata": {},
   "outputs": [
    {
     "data": {
      "text/plain": [
       "array([2.  , 2.62, 3.27, 3.95, 4.66, 5.39])"
      ]
     },
     "execution_count": 15,
     "metadata": {},
     "output_type": "execute_result"
    }
   ],
   "source": [
    "from sympy import *\n",
    "import numpy as np\n",
    "def rk(g,x0,h,y0,xn):\n",
    "    x,y=symbols('x,y')\n",
    "    f=lambdify([x,y],g)\n",
    "    xt=x0+h\n",
    "    Y=[y0]\n",
    "    while xt<=xn:\n",
    "        k1=h*f(x0,y0)\n",
    "        k2=h*f(x0+h/2,y0+k1/2)\n",
    "        k3=h*f(x0+h/2,y0+k2/2)\n",
    "        k4=h*f(x0+h,y0+k3)\n",
    "        y1=y0+(1/6)*(k1+2*(k2+k3)+k4)\n",
    "        Y.append(y1)\n",
    "        x0=xt\n",
    "        y0=y1\n",
    "        xt=xt+h\n",
    "    return np.round(Y,2)\n",
    "rk('1+(y/x)',1,0.2,2,2)\n"
   ]
  },
  {
   "cell_type": "code",
   "execution_count": 17,
   "metadata": {},
   "outputs": [
    {
     "name": "stdout",
     "output_type": "stream",
     "text": [
      "predicted value of y4 is 3.079\n",
      "corrected value of y4 after \t iteration 1 is \t 3.07940\t\n",
      "corrected value of y4 after \t iteration 2 is \t 3.07940\t\n",
      "corrected value of y4 after \t iteration 3 is \t 3.07940\t\n"
     ]
    }
   ],
   "source": [
    "x0=1\n",
    "y0=2\n",
    "y1=2.2156\n",
    "y2=2.4649\n",
    "y3=2.7514\n",
    "h=0.1\n",
    "x1=x0+h\n",
    "x2=x1+h\n",
    "x3=x2+h\n",
    "x4=x3+h\n",
    "def f(x,y):\n",
    "    return x**2+(y/2)\n",
    "y10=f(x0,y0)\n",
    "y11=f(x1,y1)\n",
    "y12=f(x2,y2)\n",
    "y13=f(x3,y3)\n",
    "y4p=y0+(4*h/3)*(2*y11-y12+2*y13)\n",
    "print(\"predicted value of y4 is %3.3f\"%y4p)\n",
    "y14=f(x4,y4p)\n",
    "for i in range(1,4):\n",
    "    y4=y2+(h/3)*(y14+4*y13+y12)\n",
    "    print(\"corrected value of y4 after \\t iteration %d is \\t %3.5f\\t\"%(i,y4))\n",
    "    y14=f(x4,y4)"
   ]
  },
  {
   "cell_type": "code",
   "execution_count": null,
   "metadata": {},
   "outputs": [],
   "source": []
  }
 ],
 "metadata": {
  "kernelspec": {
   "display_name": "base",
   "language": "python",
   "name": "python3"
  },
  "language_info": {
   "codemirror_mode": {
    "name": "ipython",
    "version": 3
   },
   "file_extension": ".py",
   "mimetype": "text/x-python",
   "name": "python",
   "nbconvert_exporter": "python",
   "pygments_lexer": "ipython3",
   "version": "3.11.4"
  },
  "orig_nbformat": 4
 },
 "nbformat": 4,
 "nbformat_minor": 2
}
