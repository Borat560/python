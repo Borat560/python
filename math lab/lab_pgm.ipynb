{
 "cells": [
  {
   "cell_type": "code",
   "execution_count": 1,
   "metadata": {},
   "outputs": [
    {
     "name": "stdout",
     "output_type": "stream",
     "text": [
      "24.0*pi\n"
     ]
    }
   ],
   "source": [
    "from sympy import *\n",
    "x=Symbol('x')\n",
    "y=Symbol('y')\n",
    "a=4\n",
    "b=6\n",
    "w3=4*integrate(1,(y,0,(b/a)*sqrt(a**2-x**2)),(x,0,a))\n",
    "print(w3)"
   ]
  },
  {
   "cell_type": "code",
   "execution_count": 2,
   "metadata": {},
   "outputs": [
    {
     "name": "stdout",
     "output_type": "stream",
     "text": [
      "81/80\n"
     ]
    }
   ],
   "source": [
    "from sympy import *\n",
    "x=Symbol('x')\n",
    "y=Symbol('y')\n",
    "z=Symbol('z')\n",
    "w2=integrate((x*y*z),(z,0,3-x-y),(y,0,3-x),(x,0,3))\n",
    "print(w2)"
   ]
  },
  {
   "cell_type": "code",
   "execution_count": null,
   "metadata": {},
   "outputs": [],
   "source": []
  }
 ],
 "metadata": {
  "kernelspec": {
   "display_name": "base",
   "language": "python",
   "name": "python3"
  },
  "language_info": {
   "codemirror_mode": {
    "name": "ipython",
    "version": 3
   },
   "file_extension": ".py",
   "mimetype": "text/x-python",
   "name": "python",
   "nbconvert_exporter": "python",
   "pygments_lexer": "ipython3",
   "version": "3.11.4"
  },
  "orig_nbformat": 4
 },
 "nbformat": 4,
 "nbformat_minor": 2
}
