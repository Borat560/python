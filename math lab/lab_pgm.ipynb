{
 "cells": [
  {
   "cell_type": "code",
   "execution_count": 1,
   "metadata": {},
   "outputs": [
    {
     "name": "stdout",
     "output_type": "stream",
     "text": [
      "24.0*pi\n"
     ]
    }
   ],
   "source": [
    "from sympy import *\n",
    "x=Symbol('x')\n",
    "y=Symbol('y')\n",
    "a=4\n",
    "b=6\n",
    "w3=4*integrate(1,(y,0,(b/a)*sqrt(a**2-x**2)),(x,0,a))\n",
    "print(w3)"
   ]
  },
  {
   "cell_type": "code",
   "execution_count": 2,
   "metadata": {},
   "outputs": [
    {
     "name": "stdout",
     "output_type": "stream",
     "text": [
      "81/80\n"
     ]
    }
   ],
   "source": [
    "from sympy import *\n",
    "x=Symbol('x')\n",
    "y=Symbol('y')\n",
    "z=Symbol('z')\n",
    "w2=integrate((x*y*z),(z,0,3-x-y),(y,0,3-x),(x,0,3))\n",
    "print(w2)"
   ]
  },
  {
   "cell_type": "code",
   "execution_count": 4,
   "metadata": {},
   "outputs": [
    {
     "name": "stdout",
     "output_type": "stream",
     "text": [
      "a*b*c/6\n"
     ]
    }
   ],
   "source": [
    "from sympy import *\n",
    "x=Symbol('x')\n",
    "y=Symbol('y')\n",
    "z=Symbol('z')\n",
    "a=Symbol('a')\n",
    "b=Symbol('b')\n",
    "c=Symbol('c')\n",
    "w2=integrate(1,(z,0,c*(1-x/a-y/b)),(y,0,b*(1-x/a)),(x,0,a))\n",
    "print(w2)"
   ]
  },
  {
   "cell_type": "code",
   "execution_count": 5,
   "metadata": {},
   "outputs": [
    {
     "name": "stdout",
     "output_type": "stream",
     "text": [
      "gamma( 5.0 )is 24.000\n",
      "beta( 3.0 5.0 ) is 0.010\n"
     ]
    }
   ],
   "source": [
    "from sympy import *\n",
    "m=input('m:')\n",
    "n=input('n:')\n",
    "m=float(m)\n",
    "n=float(n)\n",
    "s=beta(m,n)\n",
    "t=gamma(n)\n",
    "print('gamma(',n,')is %3.3f'%t)\n",
    "print('beta(',m,n,') is %3.3f'%s)"
   ]
  },
  {
   "cell_type": "code",
   "execution_count": 6,
   "metadata": {},
   "outputs": [
    {
     "name": "stdout",
     "output_type": "stream",
     "text": [
      "Given scalar function F=\n"
     ]
    },
    {
     "data": {
      "text/latex": [
       "$\\displaystyle x^{2} y z$"
      ],
      "text/plain": [
       "x**2*y*z"
      ]
     },
     "metadata": {},
     "output_type": "display_data"
    },
    {
     "name": "stdout",
     "output_type": "stream",
     "text": [
      "Gradient of F=\n"
     ]
    },
    {
     "data": {
      "text/latex": [
       "$\\displaystyle 2 x y z\\mathbf{\\hat{v}_x} + x^{2} z\\mathbf{\\hat{v}_y} + x^{2} y\\mathbf{\\hat{v}_z}$"
      ],
      "text/plain": [
       "2*x*y*z*v.x + x**2*z*v.y + x**2*y*v.z"
      ]
     },
     "metadata": {},
     "output_type": "display_data"
    }
   ],
   "source": [
    "from sympy .physics .vector import *\n",
    "from sympy import var ,pprint\n",
    "var('x,y,z')\n",
    "v=ReferenceFrame('v')\n",
    "F=v[0]**2*v[1]*v[2]\n",
    "G=gradient(F,v)\n",
    "F=F.subs([(v[0],x),(v[1],y),(v[2],z)])\n",
    "print(\"Given scalar function F=\")\n",
    "display(F)\n",
    "G=G.subs([(v[0],x),(v[1],y),(v[2],z)])\n",
    "print(\"Gradient of F=\")\n",
    "display(G)"
   ]
  },
  {
   "cell_type": "code",
   "execution_count": 7,
   "metadata": {},
   "outputs": [
    {
     "ename": "AttributeError",
     "evalue": "'CoordinateSym' object has no attribute 'y'",
     "output_type": "error",
     "traceback": [
      "\u001b[0;31m---------------------------------------------------------------------------\u001b[0m",
      "\u001b[0;31mAttributeError\u001b[0m                            Traceback (most recent call last)",
      "Cell \u001b[0;32mIn[7], line 5\u001b[0m\n\u001b[1;32m      3\u001b[0m var(\u001b[39m'\u001b[39m\u001b[39mx,y,z\u001b[39m\u001b[39m'\u001b[39m)\n\u001b[1;32m      4\u001b[0m v\u001b[39m=\u001b[39mReferenceFrame(\u001b[39m'\u001b[39m\u001b[39mv\u001b[39m\u001b[39m'\u001b[39m)\n\u001b[0;32m----> 5\u001b[0m F\u001b[39m=\u001b[39mv[\u001b[39m0\u001b[39m]\u001b[39m*\u001b[39mv[\u001b[39m1\u001b[39m]\u001b[39m*\u001b[39m\u001b[39m*\u001b[39m\u001b[39m2\u001b[39m\u001b[39m*\u001b[39mv \u001b[39m.\u001b[39mx\u001b[39m+\u001b[39m\u001b[39m2\u001b[39m\u001b[39m*\u001b[39mv[\u001b[39m0\u001b[39m]\u001b[39m*\u001b[39m\u001b[39m*\u001b[39m\u001b[39m2\u001b[39m\u001b[39m*\u001b[39mv[\u001b[39m1\u001b[39m]\u001b[39m*\u001b[39mv[\u001b[39m2\u001b[39m] \u001b[39m.\u001b[39my\u001b[39m-\u001b[39m\u001b[39m3\u001b[39m\u001b[39m*\u001b[39mv[\u001b[39m1\u001b[39m]\u001b[39m*\u001b[39mv[\u001b[39m2\u001b[39m]\u001b[39m*\u001b[39m\u001b[39m*\u001b[39m\u001b[39m2\u001b[39m\u001b[39m*\u001b[39mv \u001b[39m.\u001b[39mz\n\u001b[1;32m      6\u001b[0m G\u001b[39m=\u001b[39mcurl(F,v)\n\u001b[1;32m      7\u001b[0m F\u001b[39m=\u001b[39mF\u001b[39m.\u001b[39msubs([(v[\u001b[39m0\u001b[39m],x),(v[\u001b[39m1\u001b[39m],y),(v[\u001b[39m2\u001b[39m],z)])\n",
      "\u001b[0;31mAttributeError\u001b[0m: 'CoordinateSym' object has no attribute 'y'"
     ]
    }
   ],
   "source": [
    "from sympy .physics .vector import *\n",
    "from sympy import var \n",
    "var('x,y,z')\n",
    "v=ReferenceFrame('v')\n",
    "F=v[0]*v[1]**2*v .x+2*v[0]**2*v[1]*v[2] .y-3*v[1]*v[2]**2*v .z\n",
    "G=curl(F,v)\n",
    "F=F.subs([(v[0],x),(v[1],y),(v[2],z)])\n",
    "display(F)\n",
    "G=G.subs()"
   ]
  },
  {
   "cell_type": "code",
   "execution_count": null,
   "metadata": {},
   "outputs": [],
   "source": [
    "from numpy import array\n",
    "from sympy import *\n",
    "import numpy as np\n",
    "def taylor(deriv,x,y,xstop,h):\n",
    "    x=[]\n",
    "    "
   ]
  }
 ],
 "metadata": {
  "kernelspec": {
   "display_name": "base",
   "language": "python",
   "name": "python3"
  },
  "language_info": {
   "codemirror_mode": {
    "name": "ipython",
    "version": 3
   },
   "file_extension": ".py",
   "mimetype": "text/x-python",
   "name": "python",
   "nbconvert_exporter": "python",
   "pygments_lexer": "ipython3",
   "version": "3.11.4"
  },
  "orig_nbformat": 4
 },
 "nbformat": 4,
 "nbformat_minor": 2
}
