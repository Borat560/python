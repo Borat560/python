{
 "cells": [
  {
   "cell_type": "code",
   "execution_count": 2,
   "metadata": {},
   "outputs": [
    {
     "name": "stdout",
     "output_type": "stream",
     "text": [
      "-10 9\n",
      "Assertion failure: number a is negative.\n",
      "None\n"
     ]
    }
   ],
   "source": [
    "def DivExp(a,b):\n",
    "    try:\n",
    "        assert a>0,\"number a is negative.\"\n",
    "        if b==0:\n",
    "            raise ZeroDivisionError(\"Zero Division Error\")\n",
    "        c=a/b\n",
    "        return c\n",
    "    except ZeroDivisionError as x:\n",
    "        print(x)\n",
    "    except AssertionError as x:\n",
    "        print(\"Assertion failure: \"+str(x))\n",
    "x=int(input(\"enter first number:\"))\n",
    "y=int(input(\"enter second number:\"))\n",
    "print(x,y)\n",
    "print(DivExp(x,y))\n",
    "\n"
   ]
  }
 ],
 "metadata": {
  "kernelspec": {
   "display_name": "Python 3",
   "language": "python",
   "name": "python3"
  },
  "language_info": {
   "codemirror_mode": {
    "name": "ipython",
    "version": 3
   },
   "file_extension": ".py",
   "mimetype": "text/x-python",
   "name": "python",
   "nbconvert_exporter": "python",
   "pygments_lexer": "ipython3",
   "version": "3.10.12"
  },
  "orig_nbformat": 4
 },
 "nbformat": 4,
 "nbformat_minor": 2
}
