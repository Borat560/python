{
 "cells": [
  {
   "cell_type": "code",
   "execution_count": 2,
   "id": "f11dbedb",
   "metadata": {},
   "outputs": [
    {
     "name": "stdout",
     "output_type": "stream",
     "text": [
      "enter name: pada\n",
      "enter USN 4mw22cs004\n",
      "enter the marks secured by the student in 3 subjects \n",
      "enter the marks in physics(MAX=100)100\n",
      "enter the marks in chemistry(MAX=100)50\n",
      "enter the marks in maths(MAX=100)100\n",
      "DETAILS\n",
      "name: pada\n",
      "MARKS\n",
      "Phy: 100\n",
      "maths: 100\n",
      "chem: 50\n",
      "total: 250\n",
      "percentage:{:.2f} 83.33333333333333\n"
     ]
    }
   ],
   "source": [
    "#student details\n",
    "name=input(\"enter name: \")\n",
    "usn=input(\"enter USN \")\n",
    "print(\"enter the marks secured by the student in 3 subjects \")\n",
    "phy=int(input(\"enter the marks in physics(MAX=100)\"))\n",
    "chem=int(input(\"enter the marks in chemistry(MAX=100)\"))\n",
    "mat=int(input(\"enter the marks in maths(MAX=100)\"))\n",
    "tot=phy+mat+chem\n",
    "per=tot/3\n",
    "print(\"DETAILS\")\n",
    "print(\"name:\",name)\n",
    "print(\"MARKS\")\n",
    "print(\"Phy:\",phy)\n",
    "print(\"maths:\",mat)\n",
    "print(\"chem:\",chem)\n",
    "print(\"total:\",tot)\n",
    "print(\"percentage:{:.2f}\",format(per))\n"
   ]
  },
  {
   "cell_type": "code",
   "execution_count": 12,
   "id": "4013333e",
   "metadata": {},
   "outputs": [
    {
     "name": "stdout",
     "output_type": "stream",
     "text": [
      "Enter name of person:pada\n",
      "Enter year of birth:1900\n",
      "SENIOR CITIZEN\n"
     ]
    }
   ],
   "source": [
    "#senior citizen\n",
    "import datetime\n",
    "name=input('Enter name of person:')\n",
    "birth=int(input(\"Enter year of birth:\"))\n",
    "y=datetime.date.today().year\n",
    "age=y-birth\n",
    "if age>=60:\n",
    "    print(\"SENIOR CITIZEN\")\n",
    "else:\n",
    "    print(\"NOT A SENIOR CITIZEN\")\n"
   ]
  },
  {
   "cell_type": "code",
   "execution_count": null,
   "id": "f93cce45",
   "metadata": {},
   "outputs": [],
   "source": []
  }
 ],
 "metadata": {
  "kernelspec": {
   "display_name": "Python 3 (ipykernel)",
   "language": "python",
   "name": "python3"
  },
  "language_info": {
   "codemirror_mode": {
    "name": "ipython",
    "version": 3
   },
   "file_extension": ".py",
   "mimetype": "text/x-python",
   "name": "python",
   "nbconvert_exporter": "python",
   "pygments_lexer": "ipython3",
   "version": "3.10.6"
  }
 },
 "nbformat": 4,
 "nbformat_minor": 5
}
