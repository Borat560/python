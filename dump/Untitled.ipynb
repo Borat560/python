{
 "cells": [
  {
   "cell_type": "code",
   "execution_count": 15,
   "id": "098f9a7b",
   "metadata": {},
   "outputs": [
    {
     "name": "stdout",
     "output_type": "stream",
     "text": [
      "slices\n",
      "[('hi', 2)]\n",
      "slices\n",
      "[('hi', 2), ('bye', 2)]\n",
      "slices\n",
      "[('hi', 2), ('hello', 1), ('bye', 2)]\n"
     ]
    }
   ],
   "source": [
    "ifile=open(\"a.txt\")\n",
    "dict_words={}\n",
    "for line in ifile:\n",
    "    words=line.split()\n",
    "    for word in words:\n",
    "        dict_words[word]=dict_words.get(word,0)+1\n",
    "list_words=[]\n",
    "for key,val in dict_words.items():\n",
    "    list_words.append((key,val))\n",
    "    list_words.sort(reverse=True)\n",
    "    print(\"slices\")\n",
    "    print(list_words[:10])"
   ]
  },
  {
   "cell_type": "code",
   "execution_count": null,
   "id": "3b5e27dd",
   "metadata": {},
   "outputs": [],
   "source": [
    "9"
   ]
  }
 ],
 "metadata": {
  "kernelspec": {
   "display_name": "Python 3 (ipykernel)",
   "language": "python",
   "name": "python3"
  },
  "language_info": {
   "codemirror_mode": {
    "name": "ipython",
    "version": 3
   },
   "file_extension": ".py",
   "mimetype": "text/x-python",
   "name": "python",
   "nbconvert_exporter": "python",
   "pygments_lexer": "ipython3",
   "version": "3.10.6"
  }
 },
 "nbformat": 4,
 "nbformat_minor": 5
}
