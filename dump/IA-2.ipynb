{
 "cells": [
  {
   "cell_type": "code",
   "execution_count": 12,
   "metadata": {},
   "outputs": [
    {
     "name": "stdout",
     "output_type": "stream",
     "text": [
      "True\n",
      "True\n",
      "True\n",
      "False\n",
      "False\n",
      "True\n",
      "False\n"
     ]
    }
   ],
   "source": [
    "a=\"Hellllo\"\n",
    "print(a.isalnum())\n",
    "print(a.istitle())\n",
    "print(a.istitle())\n",
    "print(\"\\n\\t \\\"\\\" \".isspace())\n",
    "print(a.isdecimal())\n",
    "print(\"500\".isdecimal())\n",
    "print(a.startswith(\"He\",1,4))"
   ]
  },
  {
   "cell_type": "code",
   "execution_count": 36,
   "metadata": {},
   "outputs": [
    {
     "name": "stdout",
     "output_type": "stream",
     "text": [
      "\" ' hello\"' \n",
      "we are \"humans\" on earth\n",
      " we \n",
      "      as human's are\n",
      " \n",
      "      on\t planet earth\n",
      "llo\n",
      "False\n",
      "HELLODA\n",
      "False\n",
      "True\n",
      "helloda\n",
      "cats,hellodarats,hellodaarts\n",
      "['he', '', 'oda']\n",
      "   helloda\n",
      "helloda   \n",
      "False\n",
      "***helloda\n",
      "---------------------helloda----------------------\n"
     ]
    }
   ],
   "source": [
    "print('''\" ' hello\"' ''')\n",
    "print(\"we are \\\"humans\\\" on earth\")\n",
    "print(\"\"\" we \n",
    "      as human's are\\n \n",
    "      on\\t planet earth\"\"\")\n",
    "a=\"helloda\"\n",
    "print(a[2:5])\n",
    "print(\"hello\" not in a)\n",
    "print(a.upper())\n",
    "print(a.isupper())\n",
    "print(a.islower())\n",
    "print(a.lower())\n",
    "print(a.join([\"cats,\",\"rats,\",\"arts\"]))\n",
    "print(a.split(\"l\"))\n",
    "print(a.rjust(10))\n",
    "print(a.ljust(10))\n",
    "x=a.rjust(10,'*')\n",
    "print(x.isspace())\n",
    "print(x)\n",
    "print(a.center(50,\"-\"))\n"
   ]
  },
  {
   "cell_type": "code",
   "execution_count": 40,
   "metadata": {},
   "outputs": [
    {
     "name": "stdout",
     "output_type": "stream",
     "text": [
      "sand------                  20\n",
      "water-----                  10\n",
      "gravel----                  50\n"
     ]
    }
   ],
   "source": [
    "def p(dict,l,r):\n",
    "    for k,v in dict.items():\n",
    "        print(k.ljust(l,\"-\")+str(v).rjust(r))\n",
    "pic={\"sand\":20,\"water\":10,\"gravel\":50}\n",
    "p(pic,10,20)"
   ]
  },
  {
   "cell_type": "code",
   "execution_count": 47,
   "metadata": {},
   "outputs": [
    {
     "name": "stdout",
     "output_type": "stream",
     "text": [
      "  \n",
      "ttt    apple    ttt\n",
      "    \n",
      "ttt    apple    ttt\n",
      "  \n",
      "ttt    apple    ttt\n",
      "    \n",
      "  \n",
      "ttt    apple    ttt\n"
     ]
    }
   ],
   "source": [
    "t=\"  \\nttt    apple    ttt\\n    \"\n",
    "print(t)\n",
    "print(t.strip())\n",
    "print(t.lstrip(\"\\nttt\"))\n",
    "print(t.rstrip())\n"
   ]
  },
  {
   "cell_type": "code",
   "execution_count": 67,
   "metadata": {},
   "outputs": [
    {
     "name": "stdout",
     "output_type": "stream",
     "text": [
      "/home/vscd/python/new.py\n",
      "n/home/pc480/vscd/python/dumpe/home/pc480/vscd/python/dumpw/home/pc480/vscd/python/dump./home/pc480/vscd/python/dumpp/home/pc480/vscd/python/dumpy\n"
     ]
    },
    {
     "ename": "PermissionError",
     "evalue": "[Errno 13] Permission denied: '/home/vscd'",
     "output_type": "error",
     "traceback": [
      "\u001b[0;31m---------------------------------------------------------------------------\u001b[0m",
      "\u001b[0;31mPermissionError\u001b[0m                           Traceback (most recent call last)",
      "Cell \u001b[0;32mIn[67], line 4\u001b[0m\n\u001b[1;32m      2\u001b[0m \u001b[39mprint\u001b[39m(os\u001b[39m.\u001b[39mpath\u001b[39m.\u001b[39mjoin(\u001b[39m\"\u001b[39m\u001b[39m/home/vscd/python\u001b[39m\u001b[39m\"\u001b[39m,\u001b[39m'\u001b[39m\u001b[39mnew.py\u001b[39m\u001b[39m'\u001b[39m))\n\u001b[1;32m      3\u001b[0m \u001b[39mprint\u001b[39m(os\u001b[39m.\u001b[39mgetcwd()\u001b[39m.\u001b[39mjoin(\u001b[39m\"\u001b[39m\u001b[39mnew.py\u001b[39m\u001b[39m\"\u001b[39m))\n\u001b[0;32m----> 4\u001b[0m os\u001b[39m.\u001b[39;49mmakedirs(\u001b[39m\"\u001b[39;49m\u001b[39m/home/vscd/python/pgm_test\u001b[39;49m\u001b[39m\"\u001b[39;49m)\n\u001b[1;32m      5\u001b[0m \u001b[39mprint\u001b[39m(os\u001b[39m.\u001b[39mchdir(\u001b[39m\"\u001b[39m\u001b[39m/home/vscd/python/pgm_test\u001b[39m\u001b[39m\"\u001b[39m))\n\u001b[1;32m      6\u001b[0m \u001b[39mprint\u001b[39m(os\u001b[39m.\u001b[39mgetcwd())\n",
      "File \u001b[0;32m/usr/lib/python3.10/os.py:215\u001b[0m, in \u001b[0;36mmakedirs\u001b[0;34m(name, mode, exist_ok)\u001b[0m\n\u001b[1;32m    213\u001b[0m \u001b[39mif\u001b[39;00m head \u001b[39mand\u001b[39;00m tail \u001b[39mand\u001b[39;00m \u001b[39mnot\u001b[39;00m path\u001b[39m.\u001b[39mexists(head):\n\u001b[1;32m    214\u001b[0m     \u001b[39mtry\u001b[39;00m:\n\u001b[0;32m--> 215\u001b[0m         makedirs(head, exist_ok\u001b[39m=\u001b[39;49mexist_ok)\n\u001b[1;32m    216\u001b[0m     \u001b[39mexcept\u001b[39;00m \u001b[39mFileExistsError\u001b[39;00m:\n\u001b[1;32m    217\u001b[0m         \u001b[39m# Defeats race condition when another thread created the path\u001b[39;00m\n\u001b[1;32m    218\u001b[0m         \u001b[39mpass\u001b[39;00m\n",
      "File \u001b[0;32m/usr/lib/python3.10/os.py:215\u001b[0m, in \u001b[0;36mmakedirs\u001b[0;34m(name, mode, exist_ok)\u001b[0m\n\u001b[1;32m    213\u001b[0m \u001b[39mif\u001b[39;00m head \u001b[39mand\u001b[39;00m tail \u001b[39mand\u001b[39;00m \u001b[39mnot\u001b[39;00m path\u001b[39m.\u001b[39mexists(head):\n\u001b[1;32m    214\u001b[0m     \u001b[39mtry\u001b[39;00m:\n\u001b[0;32m--> 215\u001b[0m         makedirs(head, exist_ok\u001b[39m=\u001b[39;49mexist_ok)\n\u001b[1;32m    216\u001b[0m     \u001b[39mexcept\u001b[39;00m \u001b[39mFileExistsError\u001b[39;00m:\n\u001b[1;32m    217\u001b[0m         \u001b[39m# Defeats race condition when another thread created the path\u001b[39;00m\n\u001b[1;32m    218\u001b[0m         \u001b[39mpass\u001b[39;00m\n",
      "File \u001b[0;32m/usr/lib/python3.10/os.py:225\u001b[0m, in \u001b[0;36mmakedirs\u001b[0;34m(name, mode, exist_ok)\u001b[0m\n\u001b[1;32m    223\u001b[0m         \u001b[39mreturn\u001b[39;00m\n\u001b[1;32m    224\u001b[0m \u001b[39mtry\u001b[39;00m:\n\u001b[0;32m--> 225\u001b[0m     mkdir(name, mode)\n\u001b[1;32m    226\u001b[0m \u001b[39mexcept\u001b[39;00m \u001b[39mOSError\u001b[39;00m:\n\u001b[1;32m    227\u001b[0m     \u001b[39m# Cannot rely on checking for EEXIST, since the operating system\u001b[39;00m\n\u001b[1;32m    228\u001b[0m     \u001b[39m# could give priority to other errors like EACCES or EROFS\u001b[39;00m\n\u001b[1;32m    229\u001b[0m     \u001b[39mif\u001b[39;00m \u001b[39mnot\u001b[39;00m exist_ok \u001b[39mor\u001b[39;00m \u001b[39mnot\u001b[39;00m path\u001b[39m.\u001b[39misdir(name):\n",
      "\u001b[0;31mPermissionError\u001b[0m: [Errno 13] Permission denied: '/home/vscd'"
     ]
    }
   ],
   "source": [
    "import os \n",
    "print(os.path.join(\"/home/vscd/python\",'new.py'))\n",
    "print(os.getcwd().join(\"new.py\"))\n",
    "os.makedirs(\"/home/vscd/python/pgm_test\")\n",
    "print(os.chdir(\"/home/vscd/python/pgm_test\"))\n",
    "print(os.getcwd())\n"
   ]
  },
  {
   "cell_type": "code",
   "execution_count": 84,
   "metadata": {},
   "outputs": [
    {
     "data": {
      "text/plain": [
       "False"
      ]
     },
     "execution_count": 84,
     "metadata": {},
     "output_type": "execute_result"
    }
   ],
   "source": [
    "import os\n",
    "os.path.abspath('new.py')\n",
    "os.path.isabs(\"/\")\n",
    "os.path.relpath(\"/\",'new.py')\n",
    "os.listdir(\"/\")\n",
    "os.path.exists(\"/\")\n",
    "os.path.isfile('../python/new.py')\n",
    "#os.path.split(\"/home/vscd/python/new.py\",'new.py')"
   ]
  },
  {
   "cell_type": "code",
   "execution_count": 88,
   "metadata": {},
   "outputs": [
    {
     "name": "stdout",
     "output_type": "stream",
     "text": [
      "hello: goof bhywe \n",
      "\n",
      "hi nywnw\n"
     ]
    }
   ],
   "source": [
    "f=open(\"demo.txt\",mode='r')\n",
    "print(f.readline())\n",
    "print(f.readline())"
   ]
  },
  {
   "cell_type": "code",
   "execution_count": null,
   "metadata": {},
   "outputs": [],
   "source": []
  }
 ],
 "metadata": {
  "kernelspec": {
   "display_name": "Python 3",
   "language": "python",
   "name": "python3"
  },
  "language_info": {
   "codemirror_mode": {
    "name": "ipython",
    "version": 3
   },
   "file_extension": ".py",
   "mimetype": "text/x-python",
   "name": "python",
   "nbconvert_exporter": "python",
   "pygments_lexer": "ipython3",
   "version": "3.10.12"
  },
  "orig_nbformat": 4
 },
 "nbformat": 4,
 "nbformat_minor": 2
}
