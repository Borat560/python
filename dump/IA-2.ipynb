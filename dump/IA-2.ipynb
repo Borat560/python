{
 "cells": [
  {
   "cell_type": "code",
   "execution_count": 8,
   "metadata": {},
   "outputs": [
    {
     "name": "stdout",
     "output_type": "stream",
     "text": [
      "True\n",
      "True\n",
      "True\n",
      "False\n",
      "False\n",
      "True\n"
     ]
    }
   ],
   "source": [
    "a=\"Hellllo\"\n",
    "print(a.isalnum())\n",
    "print(a.istitle())\n",
    "print(a.istitle())\n",
    "print(\"\\n\\t \\\"\\\" \".isspace())\n",
    "print(a.isdecimal())\n",
    "print(\"500\".isdecimal())"
   ]
  },
  {
   "cell_type": "code",
   "execution_count": 20,
   "metadata": {},
   "outputs": [
    {
     "name": "stdout",
     "output_type": "stream",
     "text": [
      "\" ' hello\"' \n",
      "we are \"humans\" on earth\n",
      " we \n",
      "      as human's are\n",
      " \n",
      "      on\t planet earth\n",
      "llo\n",
      "False\n",
      "HELLODA\n",
      "False\n",
      "True\n",
      "helloda\n"
     ]
    }
   ],
   "source": [
    "print('''\" ' hello\"' ''')\n",
    "print(\"we are \\\"humans\\\" on earth\")\n",
    "print(\"\"\" we \n",
    "      as human's are\\n \n",
    "      on\\t planet earth\"\"\")\n",
    "a=\"helloda\"\n",
    "print(a[2:5])\n",
    "print(\"hello\" not in a)\n",
    "print(a.upper())\n",
    "print(a.isupper())\n",
    "print(a.islower())\n",
    "print(a.lower())\n"
   ]
  }
 ],
 "metadata": {
  "kernelspec": {
   "display_name": "Python 3",
   "language": "python",
   "name": "python3"
  },
  "language_info": {
   "codemirror_mode": {
    "name": "ipython",
    "version": 3
   },
   "file_extension": ".py",
   "mimetype": "text/x-python",
   "name": "python",
   "nbconvert_exporter": "python",
   "pygments_lexer": "ipython3",
   "version": "3.10.12"
  },
  "orig_nbformat": 4
 },
 "nbformat": 4,
 "nbformat_minor": 2
}
