{
 "cells": [
  {
   "cell_type": "code",
   "execution_count": 12,
   "metadata": {},
   "outputs": [
    {
     "name": "stdout",
     "output_type": "stream",
     "text": [
      "True\n",
      "True\n",
      "True\n",
      "False\n",
      "False\n",
      "True\n",
      "False\n"
     ]
    }
   ],
   "source": [
    "a=\"Hellllo\"\n",
    "print(a.isalnum())\n",
    "print(a.istitle())\n",
    "print(a.istitle())\n",
    "print(\"\\n\\t \\\"\\\" \".isspace())\n",
    "print(a.isdecimal())\n",
    "print(\"500\".isdecimal())\n",
    "print(a.startswith(\"He\",1,4))"
   ]
  },
  {
   "cell_type": "code",
   "execution_count": 36,
   "metadata": {},
   "outputs": [
    {
     "name": "stdout",
     "output_type": "stream",
     "text": [
      "\" ' hello\"' \n",
      "we are \"humans\" on earth\n",
      " we \n",
      "      as human's are\n",
      " \n",
      "      on\t planet earth\n",
      "llo\n",
      "False\n",
      "HELLODA\n",
      "False\n",
      "True\n",
      "helloda\n",
      "cats,hellodarats,hellodaarts\n",
      "['he', '', 'oda']\n",
      "   helloda\n",
      "helloda   \n",
      "False\n",
      "***helloda\n",
      "---------------------helloda----------------------\n"
     ]
    }
   ],
   "source": [
    "print('''\" ' hello\"' ''')\n",
    "print(\"we are \\\"humans\\\" on earth\")\n",
    "print(\"\"\" we \n",
    "      as human's are\\n \n",
    "      on\\t planet earth\"\"\")\n",
    "a=\"helloda\"\n",
    "print(a[2:5])\n",
    "print(\"hello\" not in a)\n",
    "print(a.upper())\n",
    "print(a.isupper())\n",
    "print(a.islower())\n",
    "print(a.lower())\n",
    "print(a.join([\"cats,\",\"rats,\",\"arts\"]))\n",
    "print(a.split(\"l\"))\n",
    "print(a.rjust(10))\n",
    "print(a.ljust(10))\n",
    "x=a.rjust(10,'*')\n",
    "print(x.isspace())\n",
    "print(x)\n",
    "print(a.center(50,\"-\"))\n"
   ]
  },
  {
   "cell_type": "code",
   "execution_count": 40,
   "metadata": {},
   "outputs": [
    {
     "name": "stdout",
     "output_type": "stream",
     "text": [
      "sand------                  20\n",
      "water-----                  10\n",
      "gravel----                  50\n"
     ]
    }
   ],
   "source": [
    "def p(dict,l,r):\n",
    "    for k,v in dict.items():\n",
    "        print(k.ljust(l,\"-\")+str(v).rjust(r))\n",
    "pic={\"sand\":20,\"water\":10,\"gravel\":50}\n",
    "p(pic,10,20)"
   ]
  },
  {
   "cell_type": "code",
   "execution_count": 47,
   "metadata": {},
   "outputs": [
    {
     "name": "stdout",
     "output_type": "stream",
     "text": [
      "  \n",
      "ttt    apple    ttt\n",
      "    \n",
      "ttt    apple    ttt\n",
      "  \n",
      "ttt    apple    ttt\n",
      "    \n",
      "  \n",
      "ttt    apple    ttt\n"
     ]
    }
   ],
   "source": [
    "t=\"  \\nttt    apple    ttt\\n    \"\n",
    "print(t)\n",
    "print(t.strip())\n",
    "print(t.lstrip(\"\\nttt\"))\n",
    "print(t.rstrip())\n"
   ]
  },
  {
   "cell_type": "code",
   "execution_count": 49,
   "metadata": {},
   "outputs": [
    {
     "name": "stdout",
     "output_type": "stream",
     "text": [
      "/home/vscd/python/new.py\n"
     ]
    }
   ],
   "source": [
    "import os \n",
    "print(os.path.join(\"/home/vscd/python\",'new.py'))\n"
   ]
  },
  {
   "cell_type": "code",
   "execution_count": null,
   "metadata": {},
   "outputs": [],
   "source": []
  }
 ],
 "metadata": {
  "kernelspec": {
   "display_name": "Python 3",
   "language": "python",
   "name": "python3"
  },
  "language_info": {
   "codemirror_mode": {
    "name": "ipython",
    "version": 3
   },
   "file_extension": ".py",
   "mimetype": "text/x-python",
   "name": "python",
   "nbconvert_exporter": "python",
   "pygments_lexer": "ipython3",
   "version": "3.10.12"
  },
  "orig_nbformat": 4
 },
 "nbformat": 4,
 "nbformat_minor": 2
}
