{
  "nbformat": 4,
  "nbformat_minor": 0,
  "metadata": {
    "colab": {
      "provenance": []
    },
    "kernelspec": {
      "name": "python3",
      "display_name": "Python 3"
    },
    "language_info": {
      "name": "python"
    }
  },
  "cells": [
    {
      "cell_type": "markdown",
      "source": [
        "1)A)\n"
      ],
      "metadata": {
        "id": "Lc4eAvLKJj1v"
      }
    },
    {
      "cell_type": "code",
      "source": [
        "m1 = int(input(\"Enter the marks in the first test: \"))\n",
        "m2 = int(input(\"Enter the marks in the second test: \"))\n",
        "m3 = int(input(\"Enter the marks in the third test: \"))\n",
        "\n",
        "if m1 <= m2 and m1 <= m3:  # m1 is smaller\n",
        "    total = m2 + m3\n",
        "elif m2 <= m1 and m2 <= m3:  # m2 is smaller\n",
        "    total = m1 + m3\n",
        "else:  # m3 is smaller\n",
        "    total = m1 + m2\n",
        "\n",
        "avg = total / 2\n",
        "print(\"The average of the best two test marks is:\", avg)"
      ],
      "metadata": {
        "colab": {
          "base_uri": "https://localhost:8080/"
        },
        "id": "LzYnidnPJmnI",
        "outputId": "14ffe986-76f0-4efc-bfab-c93af60ab8e9"
      },
      "execution_count": 1,
      "outputs": [
        {
          "output_type": "stream",
          "name": "stdout",
          "text": [
            "Enter the marks in the first test: 10\n",
            "Enter the marks in the second test: 20\n",
            "Enter the marks in the third test: 30\n",
            "The average of the best two test marks is: 25.0\n"
          ]
        }
      ]
    },
    {
      "cell_type": "markdown",
      "source": [
        "1)B)\n"
      ],
      "metadata": {
        "id": "7aJXjJxgK7L_"
      }
    },
    {
      "cell_type": "markdown",
      "source": [],
      "metadata": {
        "id": "BAwkbdbUNusK"
      }
    },
    {
      "cell_type": "code",
      "execution_count": 2,
      "metadata": {
        "colab": {
          "base_uri": "https://localhost:8080/"
        },
        "id": "Qj7FYWnxJbhu",
        "outputId": "de5e95fb-e13f-4b6a-8b67-b5b56589db62"
      },
      "outputs": [
        {
          "output_type": "stream",
          "name": "stdout",
          "text": [
            "Enter numbers only: 1221\n",
            "Palindrome\n",
            "1 appears 2 times\n",
            "2 appears 2 times\n"
          ]
        }
      ],
      "source": [
        "val = input(\"Enter numbers only: \")\n",
        "if val == val[::-1]:\n",
        "    print(\"Palindrome\")\n",
        "else:\n",
        "    print(\"Not Palindrome\")\n",
        "\n",
        "for i in range(10):\n",
        "    if val.count(str(i)) > 0:\n",
        "        print(str(i), \"appears\", val.count(str(i)), \"times\")"
      ]
    },
    {
      "cell_type": "markdown",
      "source": [
        "2)A)\n"
      ],
      "metadata": {
        "id": "jaQVRNJsLCra"
      }
    },
    {
      "cell_type": "code",
      "source": [
        "def fn(n):\n",
        "    if n == 1:\n",
        "        return 0\n",
        "    elif n == 2:\n",
        "        return 1\n",
        "    else:\n",
        "        return fn(n-1) + fn(n-2)\n",
        "\n",
        "num = int(input(\"Enter a number: \"))\n",
        "if num > 0:\n",
        "    print(\"fn(\", num, \") = \", fn(num))\n",
        "else:\n",
        "    print(\"Error in input\")"
      ],
      "metadata": {
        "colab": {
          "base_uri": "https://localhost:8080/"
        },
        "id": "x70x-TYvLEp_",
        "outputId": "9b727ed6-6e44-43a8-8800-bb125b0610f0"
      },
      "execution_count": 4,
      "outputs": [
        {
          "output_type": "stream",
          "name": "stdout",
          "text": [
            "Enter a number: 10\n",
            "fn( 10 ) =  34\n"
          ]
        }
      ]
    },
    {
      "cell_type": "markdown",
      "source": [
        "2)b) Binary to decimal\n"
      ],
      "metadata": {
        "id": "kWCdzREpLFCt"
      }
    },
    {
      "cell_type": "code",
      "source": [
        "def bin2Dec(val):\n",
        "    rev = val[::-1]\n",
        "    dec = 0\n",
        "    i = 0\n",
        "    for dig in rev:\n",
        "        dec = dec + int(dig) * 2**i\n",
        "        i = i + 1\n",
        "    return dec\n",
        "\n",
        "num1 = input(\"Enter a binary number: \")\n",
        "print('The decimal number is', bin2Dec(num1))"
      ],
      "metadata": {
        "colab": {
          "base_uri": "https://localhost:8080/"
        },
        "id": "LBIdGKkYLGRg",
        "outputId": "f07e292f-42aa-472a-f443-d4153dbe8db8"
      },
      "execution_count": 5,
      "outputs": [
        {
          "output_type": "stream",
          "name": "stdout",
          "text": [
            "Enter a binary number: 1001\n",
            "The decimal number is 9\n"
          ]
        }
      ]
    },
    {
      "cell_type": "markdown",
      "source": [
        "2)b)Octal to hexadecimal\n"
      ],
      "metadata": {
        "id": "k5RU-M7WLLju"
      }
    },
    {
      "cell_type": "code",
      "source": [
        "def oct2hex(octal):\n",
        "    dec = 0\n",
        "    i = 0\n",
        "    while octal != 0:\n",
        "        dec += (octal % 10) * 8 ** i  # modulo or remainder finding\n",
        "        octal = octal // 10  # Integer division\n",
        "        i += 1\n",
        "    hex_digits = []\n",
        "    while dec != 0:\n",
        "        hex_digits.append(dec % 16)\n",
        "        dec = dec // 16\n",
        "    nl = []\n",
        "    for elem in hex_digits[::-1]:\n",
        "        if elem <= 9:\n",
        "            nl.append(str(elem))\n",
        "        else:\n",
        "            nl.append(chr(ord('A') + (elem - 10)))\n",
        "    hexa = \"\".join(nl)\n",
        "    return hexa\n",
        "\n",
        "# Input octal number\n",
        "octal_num = input(\"Enter an octal number: \")\n",
        "hexadecimal_result = oct2hex(int(octal_num))\n",
        "print(f\"Hexadecimal equivalent: {hexadecimal_result}\")"
      ],
      "metadata": {
        "colab": {
          "base_uri": "https://localhost:8080/"
        },
        "id": "Hs3kjvErLPti",
        "outputId": "c32d5f80-2add-4fc0-9856-a911adec551f"
      },
      "execution_count": 7,
      "outputs": [
        {
          "output_type": "stream",
          "name": "stdout",
          "text": [
            "Enter an octal number: 245\n",
            "Hexadecimal equivalent: A5\n"
          ]
        }
      ]
    },
    {
      "cell_type": "markdown",
      "source": [
        "3)a)\n"
      ],
      "metadata": {
        "id": "aEYlTNfJNv_f"
      }
    },
    {
      "cell_type": "code",
      "source": [
        "sentence = input(\"Enter a sentence: \")\n",
        "wordList = sentence.split(\" \")\n",
        "print(\"This sentence has\", len(wordList), \"words\")\n",
        "\n",
        "digCnt = upCnt = loCnt = 0\n",
        "\n",
        "for ch in sentence:\n",
        "    if '0' <= ch <= '9':\n",
        "        digCnt += 1\n",
        "    elif 'A' <= ch <= 'Z':\n",
        "        upCnt += 1\n",
        "    elif 'a' <= ch <= 'z':\n",
        "        loCnt += 1\n",
        "\n",
        "print(\"This sentence has\", digCnt, \"digits,\", upCnt, \"uppercase letters,\", loCnt, \"lowercase letters\")\n"
      ],
      "metadata": {
        "colab": {
          "base_uri": "https://localhost:8080/"
        },
        "id": "vbIXZIMpNyd8",
        "outputId": "28f1e776-992a-49ed-8733-45e3d07cb2fa"
      },
      "execution_count": 8,
      "outputs": [
        {
          "output_type": "stream",
          "name": "stdout",
          "text": [
            "Enter a sentence: YeshYemVeeAyeTeaYem Paaroud Moment\n",
            "This sentence has 3 words\n",
            "This sentence has 0 digits, 8 uppercase letters, 24 lowercase letters\n"
          ]
        }
      ]
    },
    {
      "cell_type": "markdown",
      "source": [
        "3)b)\n"
      ],
      "metadata": {
        "id": "l9YVXy4fN_eA"
      }
    },
    {
      "cell_type": "code",
      "source": [
        "str1 = input(\"Enter String 1:\\n\")\n",
        "str2 = input(\"Enter String 2:\\n\")\n",
        "\n",
        "if len(str2) < len(str1):\n",
        "    short = len(str2)\n",
        "    long = len(str1)\n",
        "else:\n",
        "    short = len(str1)\n",
        "    long = len(str2)\n",
        "\n",
        "matchCnt = 0\n",
        "\n",
        "for i in range(short):\n",
        "    if str1[i] == str2[i]:\n",
        "        matchCnt += 1\n",
        "\n",
        "print(\"Similarity between the two strings:\")\n",
        "print(matchCnt / long)"
      ],
      "metadata": {
        "colab": {
          "base_uri": "https://localhost:8080/"
        },
        "id": "fkb8NquAOApb",
        "outputId": "c0be82aa-4a25-436c-8d88-9cb9ce5a692d"
      },
      "execution_count": 9,
      "outputs": [
        {
          "output_type": "stream",
          "name": "stdout",
          "text": [
            "Enter String 1:\n",
            "hi hello \n",
            "Enter String 2:\n",
            "hello bye\n",
            "Similarity between the two strings:\n",
            "0.1111111111111111\n"
          ]
        }
      ]
    },
    {
      "cell_type": "markdown",
      "source": [
        "4)a)\n"
      ],
      "metadata": {
        "id": "DdEImBcsOH6y"
      }
    },
    {
      "cell_type": "code",
      "source": [
        "import matplotlib.pyplot as plt\n",
        "import numpy as np\n",
        "x = np.array([\"A\", \"B\", \"C\", \"D\"])\n",
        "y = np.array([3, 8, 1, 10])\n",
        "plt.bar(x,y)\n",
        "plt.show()"
      ],
      "metadata": {
        "colab": {
          "base_uri": "https://localhost:8080/",
          "height": 430
        },
        "id": "BSvh-WlrOK0W",
        "outputId": "a788a444-866b-497f-e513-ec486971b68a"
      },
      "execution_count": 10,
      "outputs": [
        {
          "output_type": "display_data",
          "data": {
            "text/plain": [
              "<Figure size 640x480 with 1 Axes>"
            ],
            "image/png": "[encoded data removed]"
          },
          "metadata": {}
        }
      ]
    },
    {
      "cell_type": "markdown",
      "source": [
        "4)b)\n"
      ],
      "metadata": {
        "id": "fnj43XpSPrup"
      }
    },
    {
      "cell_type": "code",
      "source": [
        "import matplotlib.pyplot as plt\n",
        "import numpy as np\n",
        "x = np.array([5,7,8,7,2,17,2,9,4,11,12,9,6])\n",
        "y = np.array([99,86,87,88,111,86,103,87,94\n",
        ",78,77,85,86])\n",
        "plt.scatter(x, y)\n",
        "plt.show()"
      ],
      "metadata": {
        "colab": {
          "base_uri": "https://localhost:8080/",
          "height": 430
        },
        "id": "_ZsENntsPs8x",
        "outputId": "59851de1-f5f6-4748-f377-b95febacf590"
      },
      "execution_count": 11,
      "outputs": [
        {
          "output_type": "display_data",
          "data": {
            "text/plain": [
              "<Figure size 640x480 with 1 Axes>"
            ],
            "image/png": "[encoded data removed]"
          },
          "metadata": {}
        }
      ]
    }
  ]
}