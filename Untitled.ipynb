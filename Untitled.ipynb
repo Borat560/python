{
 "cells": [
  {
   "cell_type": "code",
   "execution_count": 2,
   "id": "06d5d65d",
   "metadata": {},
   "outputs": [
    {
     "name": "stdout",
     "output_type": "stream",
     "text": [
      " | | \n",
      "-+-+-\n",
      " | | \n",
      "-+-+-\n",
      " | | \n",
      "Turn for X. Move on which space?(0 to 8)\n",
      "1\n",
      " |X| \n",
      "-+-+-\n",
      " | | \n",
      "-+-+-\n",
      " | | \n",
      "Turn for O. Move on which space?(0 to 8)\n",
      "2\n",
      " |X|O\n",
      "-+-+-\n",
      " | | \n",
      "-+-+-\n",
      " | | \n",
      "Turn for X. Move on which space?(0 to 8)\n",
      "3\n",
      " |X|O\n",
      "-+-+-\n",
      "X| | \n",
      "-+-+-\n",
      " | | \n",
      "Turn for O. Move on which space?(0 to 8)\n",
      "4\n",
      " |X|O\n",
      "-+-+-\n",
      "X|O| \n",
      "-+-+-\n",
      " | | \n",
      "Turn for X. Move on which space?(0 to 8)\n",
      "5\n",
      " |X|O\n",
      "-+-+-\n",
      "X|O|X\n",
      "-+-+-\n",
      " | | \n",
      "Turn for O. Move on which space?(0 to 8)\n",
      "6\n",
      "winner is  O\n",
      " |X|O\n",
      "-+-+-\n",
      "X|O|X\n",
      "-+-+-\n",
      "O| | \n"
     ]
    },
    {
     "ename": "SystemExit",
     "evalue": "",
     "output_type": "error",
     "traceback": [
      "An exception has occurred, use %tb to see the full traceback.\n",
      "\u001b[0;31mSystemExit\u001b[0m\n"
     ]
    },
    {
     "name": "stderr",
     "output_type": "stream",
     "text": [
      "/home/pc480/.local/lib/python3.10/site-packages/IPython/core/interactiveshell.py:3516: UserWarning: To exit: use 'exit', 'quit', or Ctrl-D.\n",
      "  warn(\"To exit: use 'exit', 'quit', or Ctrl-D.\", stacklevel=1)\n"
     ]
    }
   ],
   "source": [
    "import sys\n",
    "\n",
    "def custom_excepthook(type, value, traceback):\n",
    "    if type is not SystemExit:\n",
    "        sys.__excepthook__(type, value, traceback)\n",
    "\n",
    "sys.excepthook = custom_excepthook\n",
    "\n",
    "theBoard = [' ', ' ', ' ', ' ', ' ', ' ', ' ', ' ', ' ']\n",
    "\n",
    "def printBoard(board):\n",
    "    print(board[0] + '|' + board[1] + '|' + board[2])\n",
    "    print('-+-+-')\n",
    "    print(board[3] + '|' + board[4] + '|' + board[5])\n",
    "    print('-+-+-')\n",
    "    print(board[6] + '|' + board[7] + '|' + board[8])\n",
    "def win(w):\n",
    "    pl=['X','O']\n",
    "    winner=None\n",
    "    for j in range(len(pl)):\n",
    "    \n",
    "       for i in range(0,9,3):\n",
    "         if w[i]==w[i+1]==w[i+2]==pl[j]:\n",
    "            winner=w[i]\n",
    "       for i in range(0,2,1):\n",
    "         if w[i]==w[i+3]==w[i+6]==pl[j]:\n",
    "            winner=w[i]\n",
    "       if w[0]==w[4]==w[8]==pl[j]:\n",
    "           winner=w[0]\n",
    "       elif w[2]==w[4]==w[6]==pl[j]:\n",
    "           winner=w[2]\n",
    "       \n",
    "    if winner is not None:\n",
    "        print(\"winner is \",winner)\n",
    "        printBoard(theBoard)\n",
    "        sys.exit()\n",
    "    \n",
    "\n",
    "turn = 'X'\n",
    "for i in range(9):\n",
    "    printBoard(theBoard)\n",
    "    print('Turn for ' + turn + '. Move on which space?(0 to 8)')\n",
    "    move = int(input())\n",
    "    if turn == 'X':\n",
    "        theBoard[move] = 'X'\n",
    "    else:\n",
    "        theBoard[move] = 'O'\n",
    "\n",
    "    if turn == 'X':\n",
    "        turn = 'O'\n",
    "    else:\n",
    "        turn = 'X'\n",
    "    if i>=4 and i<=8:\n",
    "        win(theBoard)\n",
    "    elif i==9:\n",
    "        print(\"the game has tied\")\n",
    "        sys.exit()\n",
    "\n"
   ]
  },
  {
   "cell_type": "code",
   "execution_count": null,
   "id": "eaa7b207",
   "metadata": {},
   "outputs": [
    {
     "ename": "",
     "evalue": "",
     "output_type": "error",
     "traceback": [
      "\u001b[1;31mRunning cells with '/bin/python' requires the ipykernel package.\n",
      "\u001b[1;31mRun the following command to install 'ipykernel' into the Python environment. \n",
      "\u001b[1;31mCommand: '/bin/python -m pip install ipykernel -U --user --force-reinstall'"
     ]
    }
   ],
   "source": [
    "print(\"hello\")"
   ]
  },
  {
   "cell_type": "code",
   "execution_count": null,
   "id": "d40f85c0",
   "metadata": {},
   "outputs": [],
   "source": []
  }
 ],
 "metadata": {
  "kernelspec": {
   "display_name": "Python 3 (ipykernel)",
   "language": "python",
   "name": "python3"
  },
  "language_info": {
   "codemirror_mode": {
    "name": "ipython",
    "version": 3
   },
   "file_extension": ".py",
   "mimetype": "text/x-python",
   "name": "python",
   "nbconvert_exporter": "python",
   "pygments_lexer": "ipython3",
   "version": "3.11.2"
  }
 },
 "nbformat": 4,
 "nbformat_minor": 5
}
